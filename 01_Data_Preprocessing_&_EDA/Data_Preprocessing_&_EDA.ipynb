{
  "cells": [
    {
      "cell_type": "markdown",
      "metadata": {
        "id": "KjeCNixqAXSY"
      },
      "source": [
        "# **01. Import Libraries and Load Data**"
      ]
    },
    {
      "cell_type": "code",
      "execution_count": null,
      "metadata": {
        "id": "cgivYupOAUVe"
      },
      "outputs": [],
      "source": [
        "pip install wrds --no-deps"
      ]
    },
    {
      "cell_type": "code",
      "execution_count": null,
      "metadata": {
        "id": "DteTJGE_AgMn"
      },
      "outputs": [],
      "source": [
        "# Import libraries\n",
        "import pandas as pd\n",
        "import numpy as np\n",
        "import wrds\n",
        "import matplotlib.pyplot as plt\n",
        "import seaborn as sns\n",
        "from scipy import stats\n",
        "from scipy.stats import kurtosis, skew"
      ]
    },
    {
      "cell_type": "markdown",
      "metadata": {
        "id": "iuJlxMIJAo03"
      },
      "source": [
        "## Connect to WRDS"
      ]
    },
    {
      "cell_type": "code",
      "execution_count": null,
      "metadata": {
        "collapsed": true,
        "id": "eMozalmwApkK"
      },
      "outputs": [],
      "source": [
        "# Establish a connection to the WRDS\n",
        "db = wrds.Connection()"
      ]
    },
    {
      "cell_type": "markdown",
      "metadata": {
        "id": "sM9sYxdNAw-v"
      },
      "source": [
        "# **02. Data Collection**"
      ]
    },
    {
      "cell_type": "markdown",
      "metadata": {
        "id": "ltngFcCcA5uo"
      },
      "source": [
        "## Select 50 Top Stocks"
      ]
    },
    {
      "cell_type": "code",
      "execution_count": null,
      "metadata": {
        "id": "jHraqun3A4gw"
      },
      "outputs": [],
      "source": [
        "# Get the earliest trading date for each permno\n",
        "query_earliest_date = \"\"\"\n",
        "SELECT\n",
        "    permno,\n",
        "    MIN(date) as first_trade_date\n",
        "FROM\n",
        "    crsp.dsf\n",
        "GROUP BY\n",
        "    permno\n",
        "HAVING\n",
        "    MIN(date) <= '2000-01-01'\n",
        "\"\"\"\n",
        "\n",
        "earliest_dates = db.raw_sql(query_earliest_date)\n",
        "\n",
        "# Ensure stocks are still active until December 31, 2024 (latest available date)\n",
        "query_active_stocks = \"\"\"\n",
        "SELECT\n",
        "    permno\n",
        "FROM\n",
        "    crsp.dsf\n",
        "WHERE\n",
        "    date BETWEEN '2000-01-01' AND '2024-12-31'\n",
        "GROUP BY\n",
        "    permno\n",
        "HAVING\n",
        "    COUNT(DISTINCT date) = (SELECT COUNT(DISTINCT date)\n",
        "                            FROM crsp.dsf\n",
        "                            WHERE date BETWEEN '2000-01-01' AND '2024-12-31')\n",
        "\"\"\"\n",
        "\n",
        "active_stocks = db.raw_sql(query_active_stocks)\n",
        "\n",
        "# Combine the two sets of stocks to get those listed before 2000 and still active in 2024\n",
        "filtered_permnos = earliest_dates.merge(active_stocks, on='permno', how='inner')\n",
        "\n",
        "# Get the list of permnos as a comma-separated string\n",
        "permnos_str = ','.join([str(permno) for permno in filtered_permnos['permno'].tolist()])\n",
        "\n",
        "# Get market capitalisation, company name, and sector information for IT sector\n",
        "query_main = f\"\"\"\n",
        "SELECT\n",
        "    a.permco,\n",
        "    a.permno,\n",
        "    a.date,\n",
        "    a.shrout,\n",
        "    a.prc * a.shrout as market_cap,\n",
        "    b.shrcd,\n",
        "    b.exchcd,\n",
        "    b.siccd,\n",
        "    b.ncusip,\n",
        "    b.comnam,\n",
        "    b.ticker\n",
        "FROM\n",
        "    crsp.dsf AS a\n",
        "JOIN\n",
        "    crsp.dsenames AS b\n",
        "ON\n",
        "    a.permno = b.permno\n",
        "WHERE\n",
        "    (\n",
        "        (b.siccd BETWEEN 3570 AND 3579) OR  -- IT-related services (programming, software, etc.)\n",
        "        (b.siccd BETWEEN 3600 AND 3674) OR\n",
        "        (b.siccd BETWEEN 7370 AND 7379) OR\n",
        "        (b.siccd BETWEEN 4810 AND 4813)\n",
        "    )\n",
        "    AND a.permno IN ({permnos_str})\n",
        "    AND a.date = '2024-12-31'\n",
        "    AND b.exchcd IN (1, 3)\n",
        "\"\"\"\n",
        "\n",
        "# Execute query\n",
        "crsp_data = db.raw_sql(query_main)"
      ]
    },
    {
      "cell_type": "code",
      "execution_count": null,
      "metadata": {
        "colab": {
          "base_uri": "https://localhost:8080/",
          "height": 0
        },
        "id": "9Pc-FtESA-d1",
        "outputId": "25a26043-bb19-40ed-b7ce-e278500f2dcf"
      },
      "outputs": [],
      "source": [
        "# Check the results from crsp_data\n",
        "crsp_data.head()"
      ]
    },
    {
      "cell_type": "code",
      "execution_count": null,
      "metadata": {
        "colab": {
          "base_uri": "https://localhost:8080/"
        },
        "id": "P6DtnP2XBBtA",
        "outputId": "5c1cc21f-4329-4f0a-83d9-1551c6df16c9"
      },
      "outputs": [],
      "source": [
        "print(\"Original dataset size: \", len(crsp_data))\n",
        "print(\"Original number of stocks: \", len(set(crsp_data['permno'])))"
      ]
    },
    {
      "cell_type": "markdown",
      "metadata": {
        "id": "TlNv2WY8Bs55"
      },
      "source": [
        "## Calculate summary statistics for market cap"
      ]
    },
    {
      "cell_type": "code",
      "execution_count": null,
      "metadata": {
        "colab": {
          "base_uri": "https://localhost:8080/",
          "height": 1000
        },
        "id": "LZSVa910BlPf",
        "outputId": "8986298a-c80d-4594-e3a9-5565ac354782"
      },
      "outputs": [],
      "source": [
        "import pandas as pd\n",
        "import numpy as np\n",
        "from scipy.stats import kurtosis, skew\n",
        "\n",
        "# Group by ticker and calculate basic statistics for market_cap\n",
        "ticker_stats = crsp_data.groupby('ticker')['market_cap'].describe(percentiles=[.25, .5, .75])\n",
        "\n",
        "# Define functions for calculating skewness and kurtosis safely\n",
        "def safe_kurtosis(x):\n",
        "    # Remove constant values\n",
        "    if len(np.unique(x)) < 2:\n",
        "        return np.nan  # No variation, cannot compute kurtosis\n",
        "    return kurtosis(x, nan_policy='omit')\n",
        "\n",
        "def safe_skew(x):\n",
        "    # Remove constant values\n",
        "    if len(np.unique(x)) < 2:\n",
        "        return np.nan  # No variation, cannot compute skewness\n",
        "    return skew(x, nan_policy='omit')\n",
        "\n",
        "# Calculate kurtosis and skewness for each ticker, handle errors with safe functions\n",
        "ticker_stats['kurtosis'] = crsp_data.groupby('ticker')['market_cap'].apply(safe_kurtosis)\n",
        "ticker_stats['skewness'] = crsp_data.groupby('ticker')['market_cap'].apply(safe_skew)\n",
        "\n",
        "# Calculate variance for each ticker\n",
        "ticker_stats['variance'] = crsp_data.groupby('ticker')['market_cap'].var()\n",
        "\n",
        "# Select and display only the desired statistics (Min, Max, Mean, STD, Kurtosis, Skewness, and Variance)\n",
        "desired_stats = ticker_stats[['min', 'max', 'mean', 'std', 'variance', 'kurtosis', 'skewness']]\n",
        "\n",
        "# Rename columns for clarity\n",
        "desired_stats = desired_stats.rename(columns={\n",
        "    'min': 'Min',\n",
        "    'max': 'Max',\n",
        "    'mean': 'Mean',\n",
        "    'std': 'STD',\n",
        "    'variance': 'Variance',\n",
        "    'kurtosis': 'Kurtosis',\n",
        "    'skewness': 'Skewness'\n",
        "})\n",
        "\n",
        "# Get the top 50 tickers by market capitalization (mean)\n",
        "top_50_tickers = desired_stats.sort_values(by='Mean', ascending=False).head(50)\n",
        "\n",
        "# Create plots for each of the statistics\n",
        "\n",
        "import matplotlib.pyplot as plt\n",
        "import seaborn as sns\n",
        "\n",
        "# Set up the figure size for multiple plots\n",
        "plt.figure(figsize=(25, 25))\n",
        "\n",
        "# Plot for Min values\n",
        "plt.subplot(4, 2, 1)\n",
        "sns.barplot(x=top_50_tickers.index, y=top_50_tickers['Min'], color='skyblue')\n",
        "plt.xticks(rotation=90)\n",
        "plt.title('Min (Market Capitalisation)')\n",
        "\n",
        "# Plot for Max values\n",
        "plt.subplot(4, 2, 2)\n",
        "sns.barplot(x=top_50_tickers.index, y=top_50_tickers['Max'], color='lightgreen')\n",
        "plt.xticks(rotation=90)\n",
        "plt.title('Max (Market Capitalisation)')\n",
        "\n",
        "# Plot for Mean\n",
        "plt.subplot(4, 2, 3)\n",
        "sns.barplot(x=top_50_tickers.index, y=top_50_tickers['Mean'], color='cyan')\n",
        "plt.xticks(rotation=90)\n",
        "plt.title('Mean (Market Capitalisation)')\n",
        "\n",
        "# Plot for STD (Standard Deviation)\n",
        "plt.subplot(4, 2, 4)\n",
        "sns.barplot(x=top_50_tickers.index, y=top_50_tickers['STD'], color='pink')\n",
        "plt.xticks(rotation=90)\n",
        "plt.title('STD (Market Capitalisation)')\n",
        "\n",
        "# Plot for Variance\n",
        "plt.subplot(4, 2, 5)\n",
        "sns.barplot(x=top_50_tickers.index, y=top_50_tickers['Variance'], color='lightcoral')\n",
        "plt.xticks(rotation=90)\n",
        "plt.title('Variance (Market Capitalisation)')\n",
        "\n",
        "# Plot for Skewness\n",
        "plt.subplot(4, 2, 6)\n",
        "sns.barplot(x=top_50_tickers.index, y=top_50_tickers['Skewness'], color='lightblue')\n",
        "plt.xticks(rotation=90)\n",
        "plt.title('Skewness (Market Capitalisation)')\n",
        "\n",
        "# Plot for Kurtosis\n",
        "plt.subplot(4, 2, 7)\n",
        "sns.barplot(x=top_50_tickers.index, y=top_50_tickers['Kurtosis'], color='yellow')\n",
        "plt.xticks(rotation=90)\n",
        "plt.title('Kurtosis (Market Capitalisation)')\n",
        "\n",
        "# Adjust layout to prevent overlap\n",
        "plt.tight_layout(pad=5.0)\n",
        "\n",
        "# Show the plots\n",
        "plt.show()\n",
        "\n",
        "# Print the top 50 stats table\n",
        "print(\"Top 50 Tickers Market Capitalisation Stats:\")\n",
        "display(top_50_tickers)"
      ]
    },
    {
      "cell_type": "code",
      "execution_count": null,
      "metadata": {
        "colab": {
          "base_uri": "https://localhost:8080/"
        },
        "id": "gLsKS8pjBv3m",
        "outputId": "c3135947-c197-4c22-8509-94c2168bf76c"
      },
      "outputs": [],
      "source": [
        "# Filter data for the latest date\n",
        "latest_date = crsp_data['date'].max()\n",
        "latest_data = crsp_data[crsp_data['date'] == latest_date]\n",
        "\n",
        "# Group by permco and permno and select the entry with the highest market capitalisation within each group\n",
        "top_50_IT_stocks = latest_data.groupby(['permco', 'permno']).apply(lambda x: x.nlargest(1, 'market_cap'))\n",
        "\n",
        "# Sort by market capitalization and get the top 50 stocks\n",
        "top_50_IT_stocks = top_50_IT_stocks.sort_values(by='market_cap', ascending=False).head(50)\n",
        "top_50_IT_stocks.reset_index(drop=True, inplace=True)"
      ]
    },
    {
      "cell_type": "code",
      "execution_count": null,
      "metadata": {
        "colab": {
          "base_uri": "https://localhost:8080/"
        },
        "id": "YDSUYfvmBz0P",
        "outputId": "4a8ac747-5f4b-4613-8a67-1748e12d3b54"
      },
      "outputs": [],
      "source": [
        "print(top_50_IT_stocks)"
      ]
    },
    {
      "cell_type": "markdown",
      "metadata": {
        "id": "6wdIvNrYB51J"
      },
      "source": [
        "## Word Cloud for Top 50 stocks (Tickers)"
      ]
    },
    {
      "cell_type": "code",
      "execution_count": null,
      "metadata": {
        "colab": {
          "base_uri": "https://localhost:8080/"
        },
        "id": "DXqWxpVHB6xg",
        "outputId": "5e281008-7854-4a00-a004-5f32cb4585b9"
      },
      "outputs": [],
      "source": [
        "pip install wordcloud matplotlib"
      ]
    },
    {
      "cell_type": "code",
      "execution_count": null,
      "metadata": {
        "colab": {
          "base_uri": "https://localhost:8080/",
          "height": 424
        },
        "id": "kG5ajT80B9QB",
        "outputId": "7400cf59-bc31-41ea-edc3-8d36758e15f4"
      },
      "outputs": [],
      "source": [
        "from wordcloud import WordCloud\n",
        "import matplotlib.pyplot as plt\n",
        "\n",
        "# Get the tickers from the top 50 IT stocks\n",
        "tickers = top_50_IT_stocks['ticker'].dropna().tolist()  # Drop any NaN tickers\n",
        "\n",
        "# Join the tickers into a single string\n",
        "tickers_string = ' '.join(tickers)\n",
        "\n",
        "# Create the WordCloud\n",
        "wordcloud = WordCloud(width=800, height=400, background_color='white').generate(tickers_string)\n",
        "\n",
        "# Display the WordCloud\n",
        "plt.figure(figsize=(10, 6))\n",
        "plt.imshow(wordcloud, interpolation='bilinear')\n",
        "plt.axis('off')\n",
        "plt.show()"
      ]
    },
    {
      "cell_type": "code",
      "execution_count": null,
      "metadata": {
        "colab": {
          "base_uri": "https://localhost:8080/"
        },
        "id": "9T4YLfH_B-v3",
        "outputId": "c73c6e08-0542-4147-f292-197bf6510fcd"
      },
      "outputs": [],
      "source": [
        "# Check for missing values in important columns\n",
        "missing_data = crsp_data[crsp_data[['market_cap', 'comnam', 'ncusip', 'ticker']].isna().any(axis=1)]\n",
        "\n",
        "# Display the rows with missing data\n",
        "print(missing_data)"
      ]
    },
    {
      "cell_type": "code",
      "execution_count": null,
      "metadata": {
        "colab": {
          "base_uri": "https://localhost:8080/"
        },
        "id": "bLSbfg2fCA2Y",
        "outputId": "64eead48-d4e7-4dc4-c759-d093dbfa4415"
      },
      "outputs": [],
      "source": [
        "# Before removing duplicates\n",
        "print(f\"Data size before removing duplicates: {crsp_data.shape}\")\n",
        "\n",
        "# Remove duplicates\n",
        "crsp_data.drop_duplicates(subset=['permno', 'date', 'date'], keep='first', inplace=True)\n",
        "\n",
        "# After removing duplicates\n",
        "print(f\"Data size after removing duplicates: {crsp_data.shape}\")"
      ]
    },
    {
      "cell_type": "markdown",
      "metadata": {
        "id": "0yUKjByBCJ6L"
      },
      "source": [
        "## Collect Price and Return Data"
      ]
    },
    {
      "cell_type": "code",
      "execution_count": null,
      "metadata": {
        "id": "azypLCdWCKtg"
      },
      "outputs": [],
      "source": [
        "# Get permno of the top 50 stocks\n",
        "top_50_permnos = top_50_IT_stocks['permno'].tolist()\n",
        "\n",
        "# Convert permno list to a string for the SQL IN clause\n",
        "permnos_str = ', '.join(map(str, top_50_permnos))"
      ]
    },
    {
      "cell_type": "markdown",
      "metadata": {
        "id": "ODwej973CNp8"
      },
      "source": [
        "### Download train data\n",
        "\n"
      ]
    },
    {
      "cell_type": "code",
      "execution_count": null,
      "metadata": {
        "id": "1492PJUGCMCv"
      },
      "outputs": [],
      "source": [
        "# Define the date range\n",
        "start_date = '2000-01-01'\n",
        "end_date = '2015-12-31'\n",
        "\n",
        "# Query to get data for the specified date range and variables for the top 50 stocks\n",
        "query = f\"\"\"\n",
        "SELECT\n",
        "    a.permco,\n",
        "    a.permno,\n",
        "    b.comnam,\n",
        "    b.ticker,\n",
        "    a.date,\n",
        "    a.prc,\n",
        "    a.cfacpr,\n",
        "    a.ret\n",
        "FROM\n",
        "    crsp.dsf AS a\n",
        "JOIN\n",
        "    (SELECT permno, comnam, ticker, namedt, nameendt\n",
        "     FROM crsp.dsenames\n",
        "     WHERE permno IN ({permnos_str}) -- filter for the top 50 stocks\n",
        "       AND namedt <= '{end_date}'\n",
        "       AND (nameendt IS NULL OR nameendt >= '{start_date}')) AS b\n",
        "ON\n",
        "    a.permno = b.permno\n",
        "WHERE\n",
        "    a.permno IN ({permnos_str})     -- filter for the top 50 stocks\n",
        "    AND a.date BETWEEN '{start_date}' AND '{end_date}'\n",
        "    AND a.date >= b.namedt\n",
        "    AND (a.date <= b.nameendt OR b.nameendt IS NULL)\n",
        "\"\"\"\n",
        "\n",
        "# Execute query\n",
        "crsp_train = db.raw_sql(query)\n",
        "crsp_train.sort_values(by=['permco', 'date'], inplace=True)"
      ]
    },
    {
      "cell_type": "code",
      "execution_count": null,
      "metadata": {
        "colab": {
          "base_uri": "https://localhost:8080/"
        },
        "id": "Tz2VaKUACRx4",
        "outputId": "570b6519-12fa-44ae-b9d6-07fb695269a9"
      },
      "outputs": [],
      "source": [
        "# Check for missing values\n",
        "print(crsp_train.isna().sum())"
      ]
    },
    {
      "cell_type": "code",
      "execution_count": null,
      "metadata": {
        "id": "sM1fIEiHCSLf"
      },
      "outputs": [],
      "source": [
        "# Drop rows where 'prc' or 'ret' are missing (NaN)\n",
        "crsp_train = crsp_train.dropna(subset=['prc', 'ret'])"
      ]
    },
    {
      "cell_type": "code",
      "execution_count": null,
      "metadata": {
        "colab": {
          "base_uri": "https://localhost:8080/",
          "height": 424
        },
        "id": "TzruIEeyCT23",
        "outputId": "e6f59074-1999-428b-dbb4-bf0c2ea6e30d"
      },
      "outputs": [],
      "source": [
        "crsp_train"
      ]
    },
    {
      "cell_type": "markdown",
      "metadata": {
        "id": "kVy6Hj0ICWlG"
      },
      "source": [
        "## Merge the risk-free rate with stock returns (calculate excess returns)"
      ]
    },
    {
      "cell_type": "code",
      "execution_count": null,
      "metadata": {
        "colab": {
          "base_uri": "https://localhost:8080/",
          "height": 206
        },
        "id": "v6HuxyXfCUzf",
        "outputId": "9e39e50f-cc6b-46cf-d2cc-04414a03ba2b"
      },
      "outputs": [],
      "source": [
        "# Query to fetch the daily risk-free rate for the period 2000-2015\n",
        "query_risk_free = \"\"\"\n",
        "SELECT\n",
        "    date,\n",
        "    rf\n",
        "FROM\n",
        "    ff.factors_daily\n",
        "WHERE\n",
        "    date BETWEEN '2000-01-01' AND '2015-12-31'\n",
        "\"\"\"\n",
        "rf_data = db.raw_sql(query_risk_free)\n",
        "\n",
        "# Ensure both 'date' columns are in datetime format before merging\n",
        "crsp_train['date'] = pd.to_datetime(crsp_train['date'], errors='coerce')\n",
        "rf_data['date'] = pd.to_datetime(rf_data['date'], errors='coerce')\n",
        "\n",
        "# Merge the risk-free rate with stock data\n",
        "crsp_train = pd.merge(crsp_train, rf_data, how='left', on='date')\n",
        "\n",
        "# Adjust the returns by factoring in the price adjustment factor (cfacpr)\n",
        "crsp_train['adjusted_ret'] = crsp_train['ret'] / crsp_train['cfacpr']\n",
        "\n",
        "# Calculate excess returns using the adjusted returns\n",
        "crsp_train['excess_ret'] = crsp_train['adjusted_ret'] - crsp_train['rf']\n",
        "\n",
        "# Clip abnormal returns to +100% and -100%\n",
        "crsp_train['excess_ret'] = crsp_train['excess_ret'].clip(lower=-1.0, upper=1.0)\n",
        "\n",
        "# Convert the excess return to a binary target for directional forecasting\n",
        "crsp_train['directional_target'] = np.where(crsp_train['excess_ret'] > 0, 1, 0)\n",
        "\n",
        "# Check the results for train data\n",
        "crsp_train[['permco', 'permno', 'date', 'adjusted_ret', 'excess_ret']].head()"
      ]
    },
    {
      "cell_type": "markdown",
      "metadata": {
        "id": "qB5HzHD2Cce4"
      },
      "source": [
        "## Download Test Data (2016-2024)"
      ]
    },
    {
      "cell_type": "code",
      "execution_count": null,
      "metadata": {
        "id": "KMXE5lqWCZmf"
      },
      "outputs": [],
      "source": [
        "# Define the date range\n",
        "start_date = '2016-01-01'\n",
        "end_date = '2024-12-31'\n",
        "\n",
        "# Query to get data for the specified date range and variables for the top 50 stocks\n",
        "query = f\"\"\"\n",
        "SELECT\n",
        "    a.permco,\n",
        "    a.permno,\n",
        "    b.comnam,\n",
        "    b.ticker,\n",
        "    a.date,\n",
        "    a.prc,\n",
        "    a.cfacpr,\n",
        "    a.ret\n",
        "FROM\n",
        "    crsp.dsf AS a\n",
        "JOIN\n",
        "    (SELECT permno, comnam, ticker, namedt, nameendt\n",
        "     FROM crsp.dsenames\n",
        "     WHERE permno IN ({permnos_str}) -- filter for the top 50 stocks\n",
        "       AND namedt <= '{end_date}'\n",
        "       AND (nameendt IS NULL OR nameendt >= '{start_date}')) AS b\n",
        "ON\n",
        "    a.permno = b.permno\n",
        "WHERE\n",
        "    a.permno IN ({permnos_str})       -- filter for the top 50 stocks\n",
        "    AND a.date BETWEEN '{start_date}' AND '{end_date}'\n",
        "    AND a.date >= b.namedt\n",
        "    AND (a.date <= b.nameendt OR b.nameendt IS NULL)\n",
        "\"\"\"\n",
        "# Execute query\n",
        "crsp_test = db.raw_sql(query)\n",
        "crsp_test.sort_values(by=['permco', 'date'], inplace=True)"
      ]
    },
    {
      "cell_type": "code",
      "execution_count": null,
      "metadata": {
        "colab": {
          "base_uri": "https://localhost:8080/",
          "height": 424
        },
        "id": "pYqgQIviCehX",
        "outputId": "3ba1a4da-b13d-4dc3-b296-5399a23a6774"
      },
      "outputs": [],
      "source": [
        "crsp_test"
      ]
    },
    {
      "cell_type": "code",
      "execution_count": null,
      "metadata": {
        "colab": {
          "base_uri": "https://localhost:8080/"
        },
        "id": "fWzlvSO9CgwW",
        "outputId": "49ef9b23-4d7c-438c-deee-bddcc439131d"
      },
      "outputs": [],
      "source": [
        "# Check for missing values\n",
        "print(crsp_test.isna().sum())"
      ]
    },
    {
      "cell_type": "markdown",
      "metadata": {
        "id": "a50B-kv3CiVc"
      },
      "source": [
        "## Calculate Excess Returns for Test Data"
      ]
    },
    {
      "cell_type": "code",
      "execution_count": null,
      "metadata": {
        "colab": {
          "base_uri": "https://localhost:8080/",
          "height": 206
        },
        "id": "OiCj56n8CjFn",
        "outputId": "a78a7cda-f654-4557-af57-eb888ae90c12"
      },
      "outputs": [],
      "source": [
        "# Use the Fama French data to get the daily risk-free rate for the test period (2016-2024)\n",
        "query_risk_free_test = \"\"\"\n",
        "SELECT\n",
        "    date,\n",
        "    rf\n",
        "FROM\n",
        "    ff.factors_daily\n",
        "WHERE\n",
        "    date BETWEEN '2016-01-01' AND '2024-12-31'\n",
        "\"\"\"\n",
        "rf_data_test = db.raw_sql(query_risk_free_test)\n",
        "\n",
        "# Merge risk-free rate with test data\n",
        "crsp_test['date'] = pd.to_datetime(crsp_test['date'], errors='coerce')\n",
        "rf_data_test['date'] = pd.to_datetime(rf_data_test['date'], errors='coerce')\n",
        "\n",
        "# Merge the test data with the risk-free rate data\n",
        "crsp_test = pd.merge(crsp_test, rf_data_test, how='left', on='date')\n",
        "\n",
        "# Adjust the returns by factoring in the price adjustment factor (cfacpr)\n",
        "crsp_test['adjusted_ret'] = crsp_test['ret'] / crsp_test['cfacpr']\n",
        "\n",
        "# Calculate excess returns using the adjusted returns\n",
        "crsp_test['excess_ret'] = crsp_test['adjusted_ret'] - crsp_test['rf']\n",
        "\n",
        "# Clip abnormal returns to +100% and -100%\n",
        "crsp_test['excess_ret'] = crsp_test['excess_ret'].clip(lower=-1.0, upper=1.0)\n",
        "\n",
        "# Convert the excess return to a binary target for directional forecasting\n",
        "crsp_test['directional_target'] = np.where(crsp_test['excess_ret'] > 0, 1, 0)\n",
        "\n",
        "# Check the results for test data\n",
        "crsp_test[['permco', 'permno', 'date', 'adjusted_ret', 'excess_ret']].head()"
      ]
    },
    {
      "cell_type": "markdown",
      "metadata": {
        "id": "hPQup3iMCkt3"
      },
      "source": [
        "### Adjusted ret and excess ret are similar because the risk-free rate (rf) is very close to zero around those years."
      ]
    },
    {
      "cell_type": "markdown",
      "metadata": {
        "id": "OXEt_405Cw-f"
      },
      "source": [
        "## Descriptive Statistics for Excess Returns"
      ]
    },
    {
      "cell_type": "code",
      "execution_count": null,
      "metadata": {
        "colab": {
          "base_uri": "https://localhost:8080/"
        },
        "id": "z2kXLHQrCrdh",
        "outputId": "614701a1-6292-47cc-ad9c-a689932dc3b3"
      },
      "outputs": [],
      "source": [
        "# Calculate descriptive statistics for excess returns in the training dataset\n",
        "in_sample_stats = crsp_train[\"excess_ret\"].describe()\n",
        "\n",
        "# Calculate skewness and kurtosis\n",
        "skewness = stats.skew(crsp_train[\"excess_ret\"])\n",
        "kurtosis = stats.kurtosis(crsp_train[\"excess_ret\"])\n",
        "\n",
        "# Print the statistics in the desired format\n",
        "print(\"In-Sample Excess Return Stats:\")\n",
        "print(in_sample_stats)\n",
        "\n",
        "# Print skewness and kurtosis\n",
        "print(f\"Skewness: {skewness:.4f}\")\n",
        "print(f\"Kurtosis: {kurtosis:.4f}\")\n",
        "\n",
        "# Display the dtype\n",
        "print(f\"Name: excess_ret, dtype: {crsp_train['excess_ret'].dtype}\")"
      ]
    },
    {
      "cell_type": "code",
      "execution_count": null,
      "metadata": {
        "colab": {
          "base_uri": "https://localhost:8080/"
        },
        "id": "xae5WdUMCzVn",
        "outputId": "b1570280-38d0-4b2b-9b73-3c033453a049"
      },
      "outputs": [],
      "source": [
        "# Calculate descriptive statistics for excess returns in the testing dataset\n",
        "out_sample_stats = crsp_test[\"excess_ret\"].describe()\n",
        "\n",
        "# Calculate skewness and kurtosis\n",
        "skewness = stats.skew(crsp_test[\"excess_ret\"])\n",
        "kurtosis = stats.kurtosis(crsp_test[\"excess_ret\"])\n",
        "\n",
        "# Print the statistics in the desired format\n",
        "print(\"Out-Sample Excess Return Stats:\")\n",
        "print(out_sample_stats)\n",
        "\n",
        "# Print skewness and kurtosis\n",
        "print(f\"Skewness: {skewness:.4f}\")\n",
        "print(f\"Kurtosis: {kurtosis:.4f}\")\n",
        "\n",
        "# Display the dtype\n",
        "print(f\"Name: excess_ret, dtype: {crsp_test['excess_ret'].dtype}\")"
      ]
    },
    {
      "cell_type": "code",
      "execution_count": null,
      "metadata": {
        "colab": {
          "base_uri": "https://localhost:8080/"
        },
        "id": "aWYGSA8JC13g",
        "outputId": "1cb4567a-dac0-4a40-9d24-bcfe0f4b4391"
      },
      "outputs": [],
      "source": [
        "train_stats = crsp_train.groupby('permno')['excess_ret'].describe()\n",
        "test_stats = crsp_test.groupby('permno')['excess_ret'].describe()\n",
        "\n",
        "# Print descriptive statistics\n",
        "print(\"Descriptive Statistics for Excess Returns (Training Period):\")\n",
        "print(train_stats)\n",
        "\n",
        "print(\"\\nDescriptive Statistics for Excess Returns (Test Period):\")\n",
        "print(test_stats)"
      ]
    },
    {
      "cell_type": "markdown",
      "metadata": {
        "id": "jHQ-UjycC4bw"
      },
      "source": [
        "## Ceate Rolling Windows"
      ]
    },
    {
      "cell_type": "code",
      "execution_count": null,
      "metadata": {
        "colab": {
          "base_uri": "https://localhost:8080/"
        },
        "id": "aR1i3pBDC6sX",
        "outputId": "84a253f6-30fb-4539-c5a0-6b4e3e09ee20"
      },
      "outputs": [],
      "source": [
        "def create_lag_features(df, lags):\n",
        "    # Sort the data by stock ID ('permno') and date to ensure correct time order\n",
        "    df_sorted = df.sort_values(by=[\"permno\", \"date\"])\n",
        "\n",
        "    # Loop through each lag value provided (e.g., 5, 21, 252, 512)\n",
        "    for lag in lags:\n",
        "        # Create lag features by shifting excess returns and applying a rolling window\n",
        "        df[f\"lag_{lag}\"] = (\n",
        "            df_sorted.groupby(\"permno\")[\"excess_ret\"]  # Group by stock\n",
        "            .shift(1)  # Shift by 1 day to avoid lookahead bias\n",
        "            .rolling(window=lag, min_periods=1)  # Rolling window over past 'lag' days\n",
        "            .mean()  # Calculate the mean of the rolling window\n",
        "        )\n",
        "\n",
        "    # Return the DataFrame with added lag features\n",
        "    return df\n",
        "\n",
        "# Example usage for both crsp_train and crsp_test\n",
        "lag_days_list = [5, 21, 252, 512]  # Example list of lag days\n",
        "\n",
        "# Apply the function to both crsp_train and crsp_test\n",
        "crsp_train_lagged = create_lag_features(crsp_train, lag_days_list)\n",
        "crsp_test_lagged = create_lag_features(crsp_test, lag_days_list)\n",
        "\n",
        "# Drop rows where any of the lag columns are NaN in crsp_test_lagged\n",
        "crsp_test_lagged = crsp_test_lagged.dropna(subset=[f'lag_{lag}' for lag in lag_days_list])\n",
        "\n",
        "# Verify that the lag features are correctly added\n",
        "print(crsp_train_lagged.head())\n",
        "print(crsp_test_lagged.head())"
      ]
    }
  ],
  "metadata": {
    "colab": {
      "provenance": []
    },
    "kernelspec": {
      "display_name": "Python 3",
      "name": "python3"
    },
    "language_info": {
      "name": "python"
    }
  },
  "nbformat": 4,
  "nbformat_minor": 0
}
